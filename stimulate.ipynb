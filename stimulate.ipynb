{
 "cells": [
  {
   "cell_type": "code",
   "execution_count": 2,
   "metadata": {},
   "outputs": [],
   "source": [
    "import numpy as np\n",
    "import pandas as pd\n",
    "import matplotlib.pyplot as plt\n",
    "import seaborn as sns"
   ]
  },
  {
   "cell_type": "code",
   "execution_count": 39,
   "metadata": {},
   "outputs": [],
   "source": [
    "def calculate_logistic_regression_prob(row, params):\n",
    "    linear_combination = 0\n",
    "    for feature in params.columns.drop(['Player','if_server']):\n",
    "        if feature in row.index:  # 检查该特征列是否存在于行中\n",
    "            linear_combination += row[feature] * params[feature].values[0]\n",
    "    \n",
    "    #prob = 1 / (1 + np.exp(-linear_combination))\n",
    "    return linear_combination"
   ]
  },
  {
   "cell_type": "code",
   "execution_count": 7,
   "metadata": {},
   "outputs": [],
   "source": [
    "MATCH = \"2023-wimbledon-1502\"\n",
    "P1 = \"Daniil Medvedev\"\n",
    "P2 = \"Christopher Eubanks\"\n",
    "params = pd.read_csv(\"all_players.csv\")\n",
    "P1_params = params[params[\"Player\"] == P1]\n",
    "P2_params = params[params[\"Player\"] == P2]\n",
    "\n",
    "P1_df = pd.read_csv(f\"{P1}.csv\")\n",
    "P1_df = P1_df[P1_df[\"match_id\"] == MATCH]\n",
    "P2_df = pd.read_csv(f\"{P2}.csv\")\n",
    "P2_df = P2_df[P2_df[\"match_id\"] == MATCH]"
   ]
  },
  {
   "cell_type": "code",
   "execution_count": 18,
   "metadata": {},
   "outputs": [
    {
     "data": {
      "text/plain": [
       "Index(['player', 'match_id', 'set_no', 'game_no', 'point_no', 'elapsed_time',\n",
       "       'p1_score', 'p2_score', 'y', 'if_score', 'if_nscore', 'if_server',\n",
       "       'if_win_game', 'if_win_set', 'if_end_game', 'if_end_set', 'game_point',\n",
       "       'break_point', 'break_fail', 'broken', 'rally_count', 'speed_mph',\n",
       "       'net_pt', 'serve_width', 'serve_depth', 'return_depth',\n",
       "       'weighted_sum_if_score', 'weighted_sum_if_nscore',\n",
       "       'weighted_sum_if_win_game', 'weighted_sum_if_win_set',\n",
       "       'weighted_sum_game_point', 'weighted_sum_break_point',\n",
       "       'weighted_sum_break_fail', 'weighted_sum_broken',\n",
       "       'weighted_sum_rally_count', 'quality'],\n",
       "      dtype='object')"
      ]
     },
     "execution_count": 18,
     "metadata": {},
     "output_type": "execute_result"
    }
   ],
   "source": [
    "P1_df.columns"
   ]
  },
  {
   "cell_type": "code",
   "execution_count": 40,
   "metadata": {},
   "outputs": [],
   "source": [
    "mom = pd.DataFrame()\n",
    "\n",
    "mom[P1] = P1_df.set_index('point_no').apply(lambda row: pd.Series({'mom':calculate_logistic_regression_prob(row, P1_params)}), axis=1)\n",
    "mom[P2] = P2_df.set_index('point_no').apply(lambda row: pd.Series({'mom':calculate_logistic_regression_prob(row, P2_params)}), axis=1)"
   ]
  },
  {
   "cell_type": "code",
   "execution_count": 42,
   "metadata": {},
   "outputs": [
    {
     "name": "stdout",
     "output_type": "stream",
     "text": [
      "          Daniil Medvedev  Christopher Eubanks\n",
      "point_no                                      \n",
      "1                0.000000             0.000000\n",
      "2                0.004864             0.333624\n",
      "3                0.026752             0.611056\n",
      "4                0.018240             0.355433\n",
      "5                0.127710             0.596125\n",
      "...                   ...                  ...\n",
      "279              0.139600             0.260895\n",
      "280              0.139750             0.130447\n",
      "281              0.074739             0.398848\n",
      "282             -3.326846             0.568399\n",
      "283              0.147930             0.237986\n",
      "\n",
      "[283 rows x 2 columns]\n"
     ]
    }
   ],
   "source": [
    "print(mom)\n",
    "mom.to_csv(\"mom.csv\")"
   ]
  }
 ],
 "metadata": {
  "kernelspec": {
   "display_name": "py38",
   "language": "python",
   "name": "python3"
  },
  "language_info": {
   "codemirror_mode": {
    "name": "ipython",
    "version": 3
   },
   "file_extension": ".py",
   "mimetype": "text/x-python",
   "name": "python",
   "nbconvert_exporter": "python",
   "pygments_lexer": "ipython3",
   "version": "3.8.17"
  }
 },
 "nbformat": 4,
 "nbformat_minor": 2
}
